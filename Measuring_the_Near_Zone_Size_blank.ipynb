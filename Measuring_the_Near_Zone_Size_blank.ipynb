{
  "cells": [
    {
      "cell_type": "markdown",
      "id": "26660b28-b18b-46f9-ac8f-beda123c68e3",
      "metadata": {
        "id": "26660b28-b18b-46f9-ac8f-beda123c68e3"
      },
      "source": [
        "# Measuring The Near Zone Size"
      ]
    },
    {
      "cell_type": "markdown",
      "id": "6844fd51-2be2-44c3-8b48-2ce29279d04d",
      "metadata": {
        "id": "6844fd51-2be2-44c3-8b48-2ce29279d04d"
      },
      "source": [
        "In this python notebook you will be walked through how to measure the near zone size of a quasar. \n",
        "\n",
        "We will be working with real data! The quasar you are to analyze is called J0008-0626 (Quasars are named based on their coordinates on the sky). This is a fairly distant quasar at a redshift of 5.929 with a rather average luminosity.\n",
        "\n",
        "We will start our analysis by reading in our data. You are given data in the form of a .txt file. The data is comma delineated, meaning that each value in a row is separated by a comma rather than a space or tab. Feel free to read in the data however you like, but a good function to use is [numpy.genfromtxt()](https://numpy.org/doc/stable/reference/generated/numpy.genfromtxt.html)\n",
        "\n",
        "Make sure you assign the values of each column to different variables!"
      ]
    },
    {
      "cell_type": "code",
      "execution_count": null,
      "id": "0a770842-a659-4dfc-ab38-d9b4d0bec5a8",
      "metadata": {
        "id": "0a770842-a659-4dfc-ab38-d9b4d0bec5a8"
      },
      "outputs": [],
      "source": [
        "import numpy"
      ]
    },
    {
      "cell_type": "markdown",
      "id": "70c273f6-6c5a-4ed5-b04a-4a7acbd5cc41",
      "metadata": {
        "id": "70c273f6-6c5a-4ed5-b04a-4a7acbd5cc41"
      },
      "source": [
        "You should now have 5 arrays of data: a wavelength array, a flux array for the model and data, and a error array for both as well. The first step is always to normalize the spectrum of the data and model. A typical normalization would involve finding the largest flux value in the whole dataset and dividing every data point by that value. Be sure to divide all of the model flux values by the **same** value."
      ]
    },
    {
      "cell_type": "code",
      "execution_count": null,
      "id": "9f955657-f009-45cd-90af-f0e8a8806f50",
      "metadata": {
        "id": "9f955657-f009-45cd-90af-f0e8a8806f50"
      },
      "outputs": [],
      "source": []
    },
    {
      "cell_type": "markdown",
      "id": "e8d51043-10b7-42d9-b3b4-8e072a6e846a",
      "metadata": {
        "id": "e8d51043-10b7-42d9-b3b4-8e072a6e846a"
      },
      "source": [
        "Now, we smooth the data. In practice this means reducing the resolution of our data by approximating a range of points as one data point whose value is the average of those that comprise it. This may sound difficult, but the Scipy library makes its surprisingly simple. Refer to the documentation for [scipy.stats.binned_statistic()](https://scipy.github.io/devdocs/reference/generated/scipy.stats.binned_statistic.html)"
      ]
    },
    {
      "cell_type": "code",
      "execution_count": null,
      "id": "b62e3298-d1d4-42e5-bd24-17420a06be57",
      "metadata": {
        "id": "b62e3298-d1d4-42e5-bd24-17420a06be57"
      },
      "outputs": [],
      "source": [
        "import scipy.stats"
      ]
    },
    {
      "cell_type": "markdown",
      "source": [
        "Before we can caluclate the TFR, we also have to fit the model to the data. We do this because the model will likely be on a different scaling, so we have to fit it to the data to get any sort of accurate results.\n",
        "\n",
        "We will fit the data by simply assuming that the model spectrum is equal to our data spectrum multiplied by some constant, or:\n",
        "\n",
        "$$ Model = k \\times Data$$\n",
        "\n",
        "We can use the Scipy library again to find the best value for k. In particular: [scipy.optimize.curve_fit()](https://docs.scipy.org/doc/scipy/reference/generated/scipy.optimize.curve_fit.html).\n",
        "\n",
        "When making our fit, we only want to use the part of the spectrum that is redward of the $Ly$-$\\alpha$ peak. So you will have to define truncated data and model arrays that only include wavelengths redward of $\\lambda_{rest} = 1216$ Å.\n",
        "\n",
        "Before writing your code, spend a few minutes and write down below why we only want to fit the model to this particular part of the spectrum."
      ],
      "metadata": {
        "id": "XBWf3wy1UaGV"
      },
      "id": "XBWf3wy1UaGV"
    },
    {
      "cell_type": "code",
      "source": [],
      "metadata": {
        "id": "TrJUtTYAI4tc"
      },
      "id": "TrJUtTYAI4tc",
      "execution_count": null,
      "outputs": []
    },
    {
      "cell_type": "markdown",
      "id": "68e9a767-c7bc-417b-bd8e-8afaaee1f158",
      "metadata": {
        "id": "68e9a767-c7bc-417b-bd8e-8afaaee1f158"
      },
      "source": [
        "Now we calculate the TFR or Transmitted Flux Ratio. For each wavelength in your array, divide the flux you have for your data, by the flux at that wavelength for the model. Print your results below."
      ]
    },
    {
      "cell_type": "code",
      "execution_count": null,
      "id": "6d24de76-393c-4c09-b909-f29fd41adade",
      "metadata": {
        "id": "6d24de76-393c-4c09-b909-f29fd41adade"
      },
      "outputs": [],
      "source": []
    },
    {
      "cell_type": "markdown",
      "id": "3d930ffc-e8a8-498c-9cad-98018a7feabd",
      "metadata": {
        "id": "3d930ffc-e8a8-498c-9cad-98018a7feabd"
      },
      "source": [
        "As you know, the near zone begins at the $Ly$-$\\alpha$ emission peak of the quasar. You can find where this is in the data by redshifting it's rest wavelength of 1216 Å. Starting at this point and moving blueward (towards lower wavelengths), find the first wavelength where the TFR goes below 0.1"
      ]
    },
    {
      "cell_type": "code",
      "execution_count": null,
      "id": "01e62748-dba5-4922-95bc-4dacf89504d8",
      "metadata": {
        "id": "01e62748-dba5-4922-95bc-4dacf89504d8"
      },
      "outputs": [],
      "source": []
    },
    {
      "cell_type": "markdown",
      "id": "79558d0e-1543-4386-b9ce-f601ea310c1d",
      "metadata": {
        "id": "79558d0e-1543-4386-b9ce-f601ea310c1d"
      },
      "source": [
        "Using the equation we derived earlier, calculate the redshift of the hydrogen atom at the end of the near zone, and use this to find the near zone size. Pay attention to units!"
      ]
    },
    {
      "cell_type": "code",
      "execution_count": null,
      "id": "32ba1b18-6c51-41a0-8e85-8d309dc20f1a",
      "metadata": {
        "id": "32ba1b18-6c51-41a0-8e85-8d309dc20f1a"
      },
      "outputs": [],
      "source": []
    },
    {
      "cell_type": "markdown",
      "id": "dc4772f9-e749-426b-8c97-3ceaeb07caab",
      "metadata": {
        "id": "dc4772f9-e749-426b-8c97-3ceaeb07caab"
      },
      "source": [
        "Extension: Make a plot of the TFR and Near Zone. Make one where the x axis is wavelength and one where the x axis is distance."
      ]
    },
    {
      "cell_type": "code",
      "execution_count": null,
      "id": "31b66222-8189-4647-95f7-7f9a0855c65a",
      "metadata": {
        "id": "31b66222-8189-4647-95f7-7f9a0855c65a"
      },
      "outputs": [],
      "source": []
    }
  ],
  "metadata": {
    "kernelspec": {
      "display_name": "Python 3 (ipykernel)",
      "language": "python",
      "name": "python3"
    },
    "language_info": {
      "codemirror_mode": {
        "name": "ipython",
        "version": 3
      },
      "file_extension": ".py",
      "mimetype": "text/x-python",
      "name": "python",
      "nbconvert_exporter": "python",
      "pygments_lexer": "ipython3",
      "version": "3.9.7"
    },
    "colab": {
      "provenance": []
    }
  },
  "nbformat": 4,
  "nbformat_minor": 5
}